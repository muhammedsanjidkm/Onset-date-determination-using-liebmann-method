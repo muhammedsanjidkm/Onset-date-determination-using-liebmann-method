{
  "nbformat": 4,
  "nbformat_minor": 0,
  "metadata": {
    "colab": {
      "provenance": [],
      "mount_file_id": "19SlGt8S51OvCKZFa12LGao4ffGMvdzjr",
      "authorship_tag": "ABX9TyOmDGhrygkPWgWJgh0dzvDl",
      "include_colab_link": true
    },
    "kernelspec": {
      "name": "python3",
      "display_name": "Python 3"
    },
    "language_info": {
      "name": "python"
    }
  },
  "cells": [
    {
      "cell_type": "markdown",
      "metadata": {
        "id": "view-in-github",
        "colab_type": "text"
      },
      "source": [
        "<a href=\"https://colab.research.google.com/github/muhammedsanjidkm/Onset-date-determination-using-liebmann-method/blob/main/filtering%20mosdac%20%20hdf%20files%20.ipynb\" target=\"_parent\"><img src=\"https://colab.research.google.com/assets/colab-badge.svg\" alt=\"Open In Colab\"/></a>"
      ]
    },
    {
      "cell_type": "code",
      "execution_count": 1,
      "metadata": {
        "colab": {
          "base_uri": "https://localhost:8080/",
          "height": 237
        },
        "id": "QL18b1g4UgsY",
        "outputId": "6ed3143e-51fd-4a87-c30e-2eafecc63d77"
      },
      "outputs": [
        {
          "output_type": "error",
          "ename": "FileNotFoundError",
          "evalue": "[Errno 2] No such file or directory: 'D:/sanjid books/second project/1.1/'",
          "traceback": [
            "\u001b[0;31m---------------------------------------------------------------------------\u001b[0m",
            "\u001b[0;31mFileNotFoundError\u001b[0m                         Traceback (most recent call last)",
            "\u001b[0;32m<ipython-input-1-1c7a55aa1e24>\u001b[0m in \u001b[0;36m<cell line: 46>\u001b[0;34m()\u001b[0m\n\u001b[1;32m     44\u001b[0m \u001b[0;34m\u001b[0m\u001b[0m\n\u001b[1;32m     45\u001b[0m \u001b[0;31m# Iterate over each file in the folder\u001b[0m\u001b[0;34m\u001b[0m\u001b[0;34m\u001b[0m\u001b[0m\n\u001b[0;32m---> 46\u001b[0;31m \u001b[0;32mfor\u001b[0m \u001b[0mfilename\u001b[0m \u001b[0;32min\u001b[0m \u001b[0mos\u001b[0m\u001b[0;34m.\u001b[0m\u001b[0mlistdir\u001b[0m\u001b[0;34m(\u001b[0m\u001b[0mfolder_path\u001b[0m\u001b[0;34m)\u001b[0m\u001b[0;34m:\u001b[0m\u001b[0;34m\u001b[0m\u001b[0;34m\u001b[0m\u001b[0m\n\u001b[0m\u001b[1;32m     47\u001b[0m     \u001b[0;32mif\u001b[0m \u001b[0mfilename\u001b[0m\u001b[0;34m.\u001b[0m\u001b[0mendswith\u001b[0m\u001b[0;34m(\u001b[0m\u001b[0;34m\".h5\"\u001b[0m\u001b[0;34m)\u001b[0m\u001b[0;34m:\u001b[0m\u001b[0;34m\u001b[0m\u001b[0;34m\u001b[0m\u001b[0m\n\u001b[1;32m     48\u001b[0m         \u001b[0mfile_path\u001b[0m \u001b[0;34m=\u001b[0m \u001b[0mos\u001b[0m\u001b[0;34m.\u001b[0m\u001b[0mpath\u001b[0m\u001b[0;34m.\u001b[0m\u001b[0mjoin\u001b[0m\u001b[0;34m(\u001b[0m\u001b[0mfolder_path\u001b[0m\u001b[0;34m,\u001b[0m \u001b[0mfilename\u001b[0m\u001b[0;34m)\u001b[0m\u001b[0;34m\u001b[0m\u001b[0;34m\u001b[0m\u001b[0m\n",
            "\u001b[0;31mFileNotFoundError\u001b[0m: [Errno 2] No such file or directory: 'D:/sanjid books/second project/1.1/'"
          ]
        }
      ],
      "source": [
        "import h5py\n",
        "import numpy as np\n",
        "import os\n",
        "from datetime import datetime\n",
        "from collections import defaultdict\n",
        "from tabulate import tabulate\n",
        "\n",
        "# Specify the folder containing the HDF5 files(ONE YEAR )\n",
        "folder_path = \"D:/sanjid books/second project/1.1/\"\n",
        "\n",
        "# Function to extract AOD values for a given file\n",
        "def extract_aod(file_path):\n",
        "    filename_parts = os.path.basename(file_path).split('_')#splitting file name to find date\n",
        "    date_str = filename_parts[1]  # This extracts \"01APR2023\"\n",
        "    date = np.datetime64(datetime.strptime(date_str, '%d%b%Y').date(), 'D')  # Parse date correctly\n",
        "\n",
        "    with h5py.File(file_path, 'r') as file:\n",
        "        aod = file['AOD'][:]# extracting AOD\n",
        "        aod[aod == -999]=0   # Replace -999 with 0 or NaN\n",
        "        lat = file['latitude'][:]  # latitude\n",
        "        lon = file['longitude'][:]  # longitude\n",
        "\n",
        "        # Create meshgrid for latitude and longitude\n",
        "        lat_grid, lon_grid = np.meshgrid(lat, lon, indexing='ij')\n",
        "\n",
        "        # Flatten latitude, longitude, and AOD arrays for easy manipulation\n",
        "        lat_flat = lat_grid.flatten()\n",
        "        lon_flat = lon_grid.flatten()\n",
        "        aod_flat = aod.flatten()\n",
        "\n",
        "        # Create a boolean mask for the specified coordinate range ( 20km-20km over kanpur )\n",
        "        mask = ((lat_flat >= 26.42291) & (lat_flat <= 26.60309) & (lon_flat >= 80.1313) & (lon_flat <= 80.3327))\n",
        "\n",
        "        # Filter AOD values based on the mask\n",
        "        filtered_lat = lat_flat[mask]\n",
        "        filtered_lon = lon_flat[mask]\n",
        "        filtered_aod = aod_flat[mask]\n",
        "\n",
        "\n",
        "        return date, filtered_aod\n",
        "\n",
        "# Initialize a dictionary to store AOD values grouped by date\n",
        "aod_dict = defaultdict(list)\n",
        "\n",
        "# Iterate over each file in the folder\n",
        "for filename in os.listdir(folder_path):\n",
        "    if filename.endswith(\".h5\"):\n",
        "        file_path = os.path.join(folder_path, filename)\n",
        "        date, filtered_aod = extract_aod(file_path)\n",
        "        aod_dict[date].extend(filtered_aod)\n",
        "\n",
        "# Calculate the mean AOD for each day\n",
        "mean_aod_by_day = {}\n",
        "for date, aod_list in aod_dict.items():\n",
        "    mean_aod_by_day[date] = np.mean(aod_list)\n",
        "\n",
        "# Create a list to store the summary table data\n",
        "summary_table_data = []\n",
        "\n",
        "# Combine date and mean AOD into summary table data\n",
        "for date, mean_aod in sorted(mean_aod_by_day.items()):\n",
        "    summary_table_data.append([date, mean_aod])\n",
        "\n",
        "# Print the summary table\n",
        "print(tabulate(summary_table_data, headers=[\"Date\", \"Mean AOD\"], tablefmt=\"grid\"))\n"
      ]
    }
  ]
}